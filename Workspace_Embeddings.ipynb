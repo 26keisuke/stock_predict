{
 "cells": [
  {
   "cell_type": "markdown",
   "metadata": {},
   "source": [
    "#### CAUTION !!\n",
    "\n",
    "・sequence lengthごとにMinMaxScaleをしているため、全体のグラフをプロットすると不自然な形になっている"
   ]
  },
  {
   "cell_type": "code",
   "execution_count": 159,
   "metadata": {},
   "outputs": [],
   "source": [
    "import torch\n",
    "import torch.nn as nn\n",
    "import torch.optim as optim\n",
    "\n",
    "import pandas as pd\n",
    "import numpy as np\n",
    "\n",
    "from Stock_Loader import load_data\n",
    "from Stock_Preprocessor import process, fast_plot\n",
    "from Stock_RNN import get_model_0\n",
    "from Stock_RNN_Embed import get_model_1\n",
    "from Stock_RNN_Positional import get_model_2\n",
    "from Stock_Align_Dataset import clean_and_align\n",
    "from Stock_Utils import *\n",
    "\n",
    "from torch.utils.tensorboard import SummaryWriter\n",
    "\n",
    "import warnings\n",
    "warnings.filterwarnings(\"ignore\")\n",
    "\n",
    "from importlib import reload\n",
    "\n",
    "import math"
   ]
  },
  {
   "cell_type": "code",
   "execution_count": 234,
   "metadata": {},
   "outputs": [],
   "source": [
    "### RELOAD ###\n",
    "\n",
    "import Stock_Preprocessor\n",
    "import Stock_Loader\n",
    "import Stock_RNN\n",
    "import Stock_RNN_Embed\n",
    "import Stock_RNN_Positional\n",
    "import Stock_Align_Dataset\n",
    "import Stock_Utils\n",
    "\n",
    "reload(Stock_Preprocessor)\n",
    "reload(Stock_RNN)\n",
    "reload(Stock_RNN_Embed)\n",
    "reload(Stock_RNN_Positional)\n",
    "reload(Stock_Loader)\n",
    "reload(Stock_Align_Dataset)\n",
    "reload(Stock_Utils)\n",
    "\n",
    "from Stock_Loader import load_data\n",
    "from Stock_Preprocessor import process, fast_plot\n",
    "from Stock_RNN import get_model_0\n",
    "from Stock_RNN_Embed import get_model_1\n",
    "from Stock_RNN_Positional import get_model_2\n",
    "from Stock_Align_Dataset import clean_and_align\n",
    "from Stock_Utils import *"
   ]
  },
  {
   "cell_type": "code",
   "execution_count": 8,
   "metadata": {},
   "outputs": [
    {
     "name": "stdout",
     "output_type": "stream",
     "text": [
      "...Downloading Datasets\n",
      "...Adding Values to Datasets\n",
      "...Done !!\n"
     ]
    }
   ],
   "source": [
    "df_appl = load_data(\"../Datasets/dataset.csv\")"
   ]
  },
  {
   "cell_type": "code",
   "execution_count": 9,
   "metadata": {},
   "outputs": [
    {
     "data": {
      "text/html": [
       "<div>\n",
       "<style scoped>\n",
       "    .dataframe tbody tr th:only-of-type {\n",
       "        vertical-align: middle;\n",
       "    }\n",
       "\n",
       "    .dataframe tbody tr th {\n",
       "        vertical-align: top;\n",
       "    }\n",
       "\n",
       "    .dataframe thead th {\n",
       "        text-align: right;\n",
       "    }\n",
       "</style>\n",
       "<table border=\"1\" class=\"dataframe\">\n",
       "  <thead>\n",
       "    <tr style=\"text-align: right;\">\n",
       "      <th></th>\n",
       "      <th>TimeStamp</th>\n",
       "      <th>Open</th>\n",
       "      <th>High</th>\n",
       "      <th>Low</th>\n",
       "      <th>Close</th>\n",
       "      <th>Volume</th>\n",
       "      <th>Year</th>\n",
       "      <th>Month</th>\n",
       "      <th>Day</th>\n",
       "      <th>Hour</th>\n",
       "      <th>Day_of_Week</th>\n",
       "    </tr>\n",
       "  </thead>\n",
       "  <tbody>\n",
       "    <tr>\n",
       "      <th>42364</th>\n",
       "      <td>2018-02-14 16:00:00</td>\n",
       "      <td>167.32</td>\n",
       "      <td>167.45</td>\n",
       "      <td>167.3</td>\n",
       "      <td>167.37</td>\n",
       "      <td>2.03295e+06</td>\n",
       "      <td>2018</td>\n",
       "      <td>2</td>\n",
       "      <td>14</td>\n",
       "      <td>16</td>\n",
       "      <td>2</td>\n",
       "    </tr>\n",
       "    <tr>\n",
       "      <th>42365</th>\n",
       "      <td>2018-02-15 09:30:00</td>\n",
       "      <td>169.79</td>\n",
       "      <td>169.86</td>\n",
       "      <td>169.36</td>\n",
       "      <td>169.84</td>\n",
       "      <td>791331</td>\n",
       "      <td>2018</td>\n",
       "      <td>2</td>\n",
       "      <td>15</td>\n",
       "      <td>9</td>\n",
       "      <td>3</td>\n",
       "    </tr>\n",
       "  </tbody>\n",
       "</table>\n",
       "</div>"
      ],
      "text/plain": [
       "                 TimeStamp    Open    High     Low   Close       Volume  Year  \\\n",
       "42364  2018-02-14 16:00:00  167.32  167.45   167.3  167.37  2.03295e+06  2018   \n",
       "42365  2018-02-15 09:30:00  169.79  169.86  169.36  169.84       791331  2018   \n",
       "\n",
       "       Month  Day  Hour  Day_of_Week  \n",
       "42364      2   14    16            2  \n",
       "42365      2   15     9            3  "
      ]
     },
     "execution_count": 9,
     "metadata": {},
     "output_type": "execute_result"
    }
   ],
   "source": [
    "###### DOWNLOADED #######\n",
    "\n",
    "df_appl.iloc[42364:42366] # 2018-02-15 -> apple revenue hit all time hight"
   ]
  },
  {
   "cell_type": "code",
   "execution_count": 10,
   "metadata": {},
   "outputs": [],
   "source": [
    "###############\n",
    "## For Debugging ##\n",
    "###############\n",
    "\n",
    "# df_sample = df_appl.iloc[:300]\n",
    "\n",
    "# df_ran = df_sample.columns.tolist()\n",
    "# df_ran = df_ran[::-1]\n",
    "# df_sample = df_sample[df_ran]\n",
    "\n",
    "# df_sample.head()"
   ]
  },
  {
   "cell_type": "code",
   "execution_count": 11,
   "metadata": {},
   "outputs": [],
   "source": [
    "###############\n",
    "## For Debugging ##\n",
    "###############\n",
    "\n",
    "# feature = [\"Month\", \"Day_of_Week\", \"Close\", \"Open\", \"High\", \"Low\", \"Year\"]\n",
    "# df_sample_aligned, features, categorical_index = clean_and_align(df_sample, feature, debug=True)"
   ]
  },
  {
   "cell_type": "code",
   "execution_count": 12,
   "metadata": {},
   "outputs": [],
   "source": [
    "###############\n",
    "## For Debugging ##\n",
    "###############\n",
    "\n",
    "# seq_length = 10\n",
    "# val_length = 60\n",
    "# test_length = 60\n",
    "\n",
    "# _train, _train_label, _val, _val_label, _test, _test_label, _test_seq, _meta, _scaler =\\\n",
    "#                                             process(df_sample_aligned, feature, feature_range, seq_length, val_length, test_length, categorical_index)"
   ]
  },
  {
   "cell_type": "code",
   "execution_count": 29,
   "metadata": {},
   "outputs": [
    {
     "name": "stdout",
     "output_type": "stream",
     "text": [
      "...186 row(s) dropped\n"
     ]
    }
   ],
   "source": [
    "feature = [\"Close\", \"Open\", \"High\", \"Low\", \"Year\", \"Month\", \"Hour\", \"Day_of_Week\"]\n",
    "\n",
    "df_aligned, feature, categorical_index = clean_and_align(df_appl, feature, debug=True)"
   ]
  },
  {
   "cell_type": "code",
   "execution_count": 39,
   "metadata": {},
   "outputs": [
    {
     "name": "stdout",
     "output_type": "stream",
     "text": [
      "...Categorical Index Enabled\n",
      "\n",
      "...Transforming Datasets\n",
      "...Transforming feature_0\n",
      "...Transforming feature_1\n",
      "...Transforming feature_2\n",
      "...Transforming feature_3\n",
      "...Transforming feature_4\n",
      "...Transforming feature_5\n",
      "...Transforming feature_6\n",
      "...Transforming feature_7\n",
      "\n",
      "...Concatenating Datasets\n",
      "\n",
      "...Done ! Took 1620.9s to complete.\n"
     ]
    }
   ],
   "source": [
    "seq_length = 120\n",
    "feature_range=(-1,1)\n",
    "val_length = 600\n",
    "test_length = 600\n",
    "\n",
    "train, train_label, val, val_label, test, test_label, test_seq, meta, scaler =\\\n",
    "                                            process(df_aligned, feature, feature_range, seq_length, val_length, test_length, categorical_index)"
   ]
  },
  {
   "cell_type": "code",
   "execution_count": 121,
   "metadata": {},
   "outputs": [
    {
     "data": {
      "text/html": [
       "<div>\n",
       "<style scoped>\n",
       "    .dataframe tbody tr th:only-of-type {\n",
       "        vertical-align: middle;\n",
       "    }\n",
       "\n",
       "    .dataframe tbody tr th {\n",
       "        vertical-align: top;\n",
       "    }\n",
       "\n",
       "    .dataframe thead th {\n",
       "        text-align: right;\n",
       "    }\n",
       "</style>\n",
       "<table border=\"1\" class=\"dataframe\">\n",
       "  <thead>\n",
       "    <tr style=\"text-align: right;\">\n",
       "      <th></th>\n",
       "      <th>0</th>\n",
       "      <th>1</th>\n",
       "      <th>2</th>\n",
       "      <th>3</th>\n",
       "      <th>4</th>\n",
       "      <th>5</th>\n",
       "      <th>6</th>\n",
       "      <th>7</th>\n",
       "    </tr>\n",
       "  </thead>\n",
       "  <tbody>\n",
       "    <tr>\n",
       "      <th>0</th>\n",
       "      <td>-1.000000</td>\n",
       "      <td>-0.873418</td>\n",
       "      <td>-1.000000</td>\n",
       "      <td>-0.974684</td>\n",
       "      <td>2017.0</td>\n",
       "      <td>10.0</td>\n",
       "      <td>13.0</td>\n",
       "      <td>0.0</td>\n",
       "    </tr>\n",
       "    <tr>\n",
       "      <th>1</th>\n",
       "      <td>-0.823877</td>\n",
       "      <td>-1.000000</td>\n",
       "      <td>-0.944444</td>\n",
       "      <td>-0.998734</td>\n",
       "      <td>2017.0</td>\n",
       "      <td>10.0</td>\n",
       "      <td>13.0</td>\n",
       "      <td>0.0</td>\n",
       "    </tr>\n",
       "    <tr>\n",
       "      <th>2</th>\n",
       "      <td>-0.723236</td>\n",
       "      <td>-0.810127</td>\n",
       "      <td>-0.833056</td>\n",
       "      <td>-0.708861</td>\n",
       "      <td>2017.0</td>\n",
       "      <td>10.0</td>\n",
       "      <td>13.0</td>\n",
       "      <td>0.0</td>\n",
       "    </tr>\n",
       "    <tr>\n",
       "      <th>3</th>\n",
       "      <td>-0.773556</td>\n",
       "      <td>-0.722025</td>\n",
       "      <td>-0.861111</td>\n",
       "      <td>-0.696203</td>\n",
       "      <td>2017.0</td>\n",
       "      <td>10.0</td>\n",
       "      <td>13.0</td>\n",
       "      <td>0.0</td>\n",
       "    </tr>\n",
       "    <tr>\n",
       "      <th>4</th>\n",
       "      <td>-0.949428</td>\n",
       "      <td>-0.772152</td>\n",
       "      <td>-0.972222</td>\n",
       "      <td>-0.924051</td>\n",
       "      <td>2017.0</td>\n",
       "      <td>10.0</td>\n",
       "      <td>13.0</td>\n",
       "      <td>0.0</td>\n",
       "    </tr>\n",
       "  </tbody>\n",
       "</table>\n",
       "</div>"
      ],
      "text/plain": [
       "          0         1         2         3       4     5     6    7\n",
       "0 -1.000000 -0.873418 -1.000000 -0.974684  2017.0  10.0  13.0  0.0\n",
       "1 -0.823877 -1.000000 -0.944444 -0.998734  2017.0  10.0  13.0  0.0\n",
       "2 -0.723236 -0.810127 -0.833056 -0.708861  2017.0  10.0  13.0  0.0\n",
       "3 -0.773556 -0.722025 -0.861111 -0.696203  2017.0  10.0  13.0  0.0\n",
       "4 -0.949428 -0.772152 -0.972222 -0.924051  2017.0  10.0  13.0  0.0"
      ]
     },
     "execution_count": 121,
     "metadata": {},
     "output_type": "execute_result"
    }
   ],
   "source": [
    "df_check = pd.DataFrame(train[0])\n",
    "df_check.head(5)"
   ]
  },
  {
   "cell_type": "code",
   "execution_count": 239,
   "metadata": {},
   "outputs": [],
   "source": [
    "# RNN\n",
    "input_size = categorical_index if embed_dim == 1 else (train.shape[2] - categorical_index) * embed_dim + categorical_index\n",
    "output_size = 4\n",
    "hidden_dim = 128\n",
    "n_layers = 2\n",
    "bidirectional = False\n",
    "dropout = 0.1\n",
    "\n",
    "# Time Embedding\n",
    "embed_dim = 1\n",
    "\n",
    "# Scheduler\n",
    "scheduler_step = [75, 100]\n",
    "gamma = 0.1\n",
    "\n",
    "# loss_function\n",
    "lr = 0.001\n",
    "mse_scaler = True\n",
    "scale = 0.03\n",
    "\n",
    "log_dir= \"stock_positional\"\n",
    "\n",
    "\n",
    "# model, optimizer, mse_loss, scheduler, writer = get_model_0(input_size, output_size, hidden_dim, n_layers, bidirectional, dropout,\n",
    "#                                                              lr, scheduler_step, gamma, log_dir)\n",
    "\n",
    "# model, optimizer, total_loss, scheduler, writer = get_model_1(input_size, output_size, embed_dim, hidden_dim, n_layers, bidirectional, dropout,\n",
    "#                                                              lr, scheduler_step, gamma, log_dir, categorical_index)\n",
    "\n",
    "model, optimizer, total_loss, scheduler, writer = get_model_2(input_size, output_size, embed_dim, seq_length, \n",
    "                                                      hidden_dim, n_layers, bidirectional, dropout, lr, scheduler_step, gamma, mse_scaler, log_dir, categorical_index, scale)"
   ]
  },
  {
   "cell_type": "code",
   "execution_count": 240,
   "metadata": {},
   "outputs": [],
   "source": [
    "writer = SummaryWriter(log_dir)"
   ]
  },
  {
   "cell_type": "code",
   "execution_count": 241,
   "metadata": {},
   "outputs": [],
   "source": [
    "num_epochs = 150\n",
    "bt_size = 64\n",
    "acc = math.inf\n",
    "\n",
    "best_acc = math.inf\n",
    "best_model = model\n",
    "loss_accumulated = []\n",
    "sample = []"
   ]
  },
  {
   "cell_type": "code",
   "execution_count": 242,
   "metadata": {},
   "outputs": [
    {
     "ename": "KeyboardInterrupt",
     "evalue": "",
     "output_type": "error",
     "traceback": [
      "\u001b[0;31m---------------------------------------------------------------------------\u001b[0m",
      "\u001b[0;31mKeyboardInterrupt\u001b[0m                         Traceback (most recent call last)",
      "\u001b[0;32m<ipython-input-242-6d0ce9c2f335>\u001b[0m in \u001b[0;36m<module>\u001b[0;34m\u001b[0m\n\u001b[1;32m     18\u001b[0m                 \u001b[0mtargets\u001b[0m \u001b[0;34m=\u001b[0m \u001b[0mtorch\u001b[0m\u001b[0;34m.\u001b[0m\u001b[0mfrom_numpy\u001b[0m\u001b[0;34m(\u001b[0m\u001b[0mtargets\u001b[0m\u001b[0;34m)\u001b[0m\u001b[0;34m.\u001b[0m\u001b[0mfloat\u001b[0m\u001b[0;34m(\u001b[0m\u001b[0;34m)\u001b[0m\u001b[0;34m\u001b[0m\u001b[0;34m\u001b[0m\u001b[0m\n\u001b[1;32m     19\u001b[0m \u001b[0;34m\u001b[0m\u001b[0m\n\u001b[0;32m---> 20\u001b[0;31m                 \u001b[0moutputs\u001b[0m \u001b[0;34m=\u001b[0m \u001b[0mmodel\u001b[0m\u001b[0;34m(\u001b[0m\u001b[0minputs\u001b[0m\u001b[0;34m)\u001b[0m\u001b[0;34m\u001b[0m\u001b[0;34m\u001b[0m\u001b[0m\n\u001b[0m\u001b[1;32m     21\u001b[0m \u001b[0;34m\u001b[0m\u001b[0m\n\u001b[1;32m     22\u001b[0m                 \u001b[0mloss\u001b[0m \u001b[0;34m=\u001b[0m \u001b[0mtotal_loss\u001b[0m\u001b[0;34m(\u001b[0m\u001b[0minputs\u001b[0m\u001b[0;34m,\u001b[0m \u001b[0mtargets\u001b[0m\u001b[0;34m,\u001b[0m \u001b[0moutputs\u001b[0m\u001b[0;34m)\u001b[0m\u001b[0;34m\u001b[0m\u001b[0;34m\u001b[0m\u001b[0m\n",
      "\u001b[0;32m~/anaconda3/lib/python3.7/site-packages/torch/nn/modules/module.py\u001b[0m in \u001b[0;36m__call__\u001b[0;34m(self, *input, **kwargs)\u001b[0m\n\u001b[1;32m    539\u001b[0m             \u001b[0mresult\u001b[0m \u001b[0;34m=\u001b[0m \u001b[0mself\u001b[0m\u001b[0;34m.\u001b[0m\u001b[0m_slow_forward\u001b[0m\u001b[0;34m(\u001b[0m\u001b[0;34m*\u001b[0m\u001b[0minput\u001b[0m\u001b[0;34m,\u001b[0m \u001b[0;34m**\u001b[0m\u001b[0mkwargs\u001b[0m\u001b[0;34m)\u001b[0m\u001b[0;34m\u001b[0m\u001b[0;34m\u001b[0m\u001b[0m\n\u001b[1;32m    540\u001b[0m         \u001b[0;32melse\u001b[0m\u001b[0;34m:\u001b[0m\u001b[0;34m\u001b[0m\u001b[0;34m\u001b[0m\u001b[0m\n\u001b[0;32m--> 541\u001b[0;31m             \u001b[0mresult\u001b[0m \u001b[0;34m=\u001b[0m \u001b[0mself\u001b[0m\u001b[0;34m.\u001b[0m\u001b[0mforward\u001b[0m\u001b[0;34m(\u001b[0m\u001b[0;34m*\u001b[0m\u001b[0minput\u001b[0m\u001b[0;34m,\u001b[0m \u001b[0;34m**\u001b[0m\u001b[0mkwargs\u001b[0m\u001b[0;34m)\u001b[0m\u001b[0;34m\u001b[0m\u001b[0;34m\u001b[0m\u001b[0m\n\u001b[0m\u001b[1;32m    542\u001b[0m         \u001b[0;32mfor\u001b[0m \u001b[0mhook\u001b[0m \u001b[0;32min\u001b[0m \u001b[0mself\u001b[0m\u001b[0;34m.\u001b[0m\u001b[0m_forward_hooks\u001b[0m\u001b[0;34m.\u001b[0m\u001b[0mvalues\u001b[0m\u001b[0;34m(\u001b[0m\u001b[0;34m)\u001b[0m\u001b[0;34m:\u001b[0m\u001b[0;34m\u001b[0m\u001b[0;34m\u001b[0m\u001b[0m\n\u001b[1;32m    543\u001b[0m             \u001b[0mhook_result\u001b[0m \u001b[0;34m=\u001b[0m \u001b[0mhook\u001b[0m\u001b[0;34m(\u001b[0m\u001b[0mself\u001b[0m\u001b[0;34m,\u001b[0m \u001b[0minput\u001b[0m\u001b[0;34m,\u001b[0m \u001b[0mresult\u001b[0m\u001b[0;34m)\u001b[0m\u001b[0;34m\u001b[0m\u001b[0;34m\u001b[0m\u001b[0m\n",
      "\u001b[0;32m~/Documents/Chief/Project/Stock Prediction/Source/Stock_RNN_Positional.py\u001b[0m in \u001b[0;36mforward\u001b[0;34m(self, inputs)\u001b[0m\n\u001b[1;32m     30\u001b[0m         \u001b[0minputs\u001b[0m \u001b[0;34m=\u001b[0m \u001b[0mself\u001b[0m\u001b[0;34m.\u001b[0m\u001b[0mp_embed\u001b[0m\u001b[0;34m(\u001b[0m\u001b[0minputs\u001b[0m\u001b[0;34m)\u001b[0m\u001b[0;34m\u001b[0m\u001b[0;34m\u001b[0m\u001b[0m\n\u001b[1;32m     31\u001b[0m \u001b[0;34m\u001b[0m\u001b[0m\n\u001b[0;32m---> 32\u001b[0;31m         \u001b[0moutput\u001b[0m\u001b[0;34m,\u001b[0m \u001b[0m_\u001b[0m \u001b[0;34m=\u001b[0m \u001b[0mself\u001b[0m\u001b[0;34m.\u001b[0m\u001b[0mrnn\u001b[0m\u001b[0;34m(\u001b[0m\u001b[0minputs\u001b[0m\u001b[0;34m,\u001b[0m \u001b[0;34m(\u001b[0m\u001b[0mh0\u001b[0m\u001b[0;34m,\u001b[0m \u001b[0mc0\u001b[0m\u001b[0;34m)\u001b[0m\u001b[0;34m)\u001b[0m\u001b[0;34m\u001b[0m\u001b[0;34m\u001b[0m\u001b[0m\n\u001b[0m\u001b[1;32m     33\u001b[0m         \u001b[0moutput\u001b[0m \u001b[0;34m=\u001b[0m \u001b[0moutput\u001b[0m\u001b[0;34m[\u001b[0m\u001b[0;34m:\u001b[0m\u001b[0;34m,\u001b[0m \u001b[0;34m-\u001b[0m\u001b[0;36m1\u001b[0m\u001b[0;34m,\u001b[0m \u001b[0;34m:\u001b[0m\u001b[0;34m]\u001b[0m\u001b[0;34m\u001b[0m\u001b[0;34m\u001b[0m\u001b[0m\n\u001b[1;32m     34\u001b[0m         \u001b[0moutput\u001b[0m \u001b[0;34m=\u001b[0m \u001b[0mself\u001b[0m\u001b[0;34m.\u001b[0m\u001b[0mlinear\u001b[0m\u001b[0;34m(\u001b[0m\u001b[0moutput\u001b[0m\u001b[0;34m)\u001b[0m\u001b[0;34m\u001b[0m\u001b[0;34m\u001b[0m\u001b[0m\n",
      "\u001b[0;32m~/anaconda3/lib/python3.7/site-packages/torch/nn/modules/module.py\u001b[0m in \u001b[0;36m__call__\u001b[0;34m(self, *input, **kwargs)\u001b[0m\n\u001b[1;32m    539\u001b[0m             \u001b[0mresult\u001b[0m \u001b[0;34m=\u001b[0m \u001b[0mself\u001b[0m\u001b[0;34m.\u001b[0m\u001b[0m_slow_forward\u001b[0m\u001b[0;34m(\u001b[0m\u001b[0;34m*\u001b[0m\u001b[0minput\u001b[0m\u001b[0;34m,\u001b[0m \u001b[0;34m**\u001b[0m\u001b[0mkwargs\u001b[0m\u001b[0;34m)\u001b[0m\u001b[0;34m\u001b[0m\u001b[0;34m\u001b[0m\u001b[0m\n\u001b[1;32m    540\u001b[0m         \u001b[0;32melse\u001b[0m\u001b[0;34m:\u001b[0m\u001b[0;34m\u001b[0m\u001b[0;34m\u001b[0m\u001b[0m\n\u001b[0;32m--> 541\u001b[0;31m             \u001b[0mresult\u001b[0m \u001b[0;34m=\u001b[0m \u001b[0mself\u001b[0m\u001b[0;34m.\u001b[0m\u001b[0mforward\u001b[0m\u001b[0;34m(\u001b[0m\u001b[0;34m*\u001b[0m\u001b[0minput\u001b[0m\u001b[0;34m,\u001b[0m \u001b[0;34m**\u001b[0m\u001b[0mkwargs\u001b[0m\u001b[0;34m)\u001b[0m\u001b[0;34m\u001b[0m\u001b[0;34m\u001b[0m\u001b[0m\n\u001b[0m\u001b[1;32m    542\u001b[0m         \u001b[0;32mfor\u001b[0m \u001b[0mhook\u001b[0m \u001b[0;32min\u001b[0m \u001b[0mself\u001b[0m\u001b[0;34m.\u001b[0m\u001b[0m_forward_hooks\u001b[0m\u001b[0;34m.\u001b[0m\u001b[0mvalues\u001b[0m\u001b[0;34m(\u001b[0m\u001b[0;34m)\u001b[0m\u001b[0;34m:\u001b[0m\u001b[0;34m\u001b[0m\u001b[0;34m\u001b[0m\u001b[0m\n\u001b[1;32m    543\u001b[0m             \u001b[0mhook_result\u001b[0m \u001b[0;34m=\u001b[0m \u001b[0mhook\u001b[0m\u001b[0;34m(\u001b[0m\u001b[0mself\u001b[0m\u001b[0;34m,\u001b[0m \u001b[0minput\u001b[0m\u001b[0;34m,\u001b[0m \u001b[0mresult\u001b[0m\u001b[0;34m)\u001b[0m\u001b[0;34m\u001b[0m\u001b[0;34m\u001b[0m\u001b[0m\n",
      "\u001b[0;32m~/anaconda3/lib/python3.7/site-packages/torch/nn/modules/rnn.py\u001b[0m in \u001b[0;36mforward\u001b[0;34m(self, input, hx)\u001b[0m\n\u001b[1;32m    562\u001b[0m             \u001b[0;32mreturn\u001b[0m \u001b[0mself\u001b[0m\u001b[0;34m.\u001b[0m\u001b[0mforward_packed\u001b[0m\u001b[0;34m(\u001b[0m\u001b[0minput\u001b[0m\u001b[0;34m,\u001b[0m \u001b[0mhx\u001b[0m\u001b[0;34m)\u001b[0m\u001b[0;34m\u001b[0m\u001b[0;34m\u001b[0m\u001b[0m\n\u001b[1;32m    563\u001b[0m         \u001b[0;32melse\u001b[0m\u001b[0;34m:\u001b[0m\u001b[0;34m\u001b[0m\u001b[0;34m\u001b[0m\u001b[0m\n\u001b[0;32m--> 564\u001b[0;31m             \u001b[0;32mreturn\u001b[0m \u001b[0mself\u001b[0m\u001b[0;34m.\u001b[0m\u001b[0mforward_tensor\u001b[0m\u001b[0;34m(\u001b[0m\u001b[0minput\u001b[0m\u001b[0;34m,\u001b[0m \u001b[0mhx\u001b[0m\u001b[0;34m)\u001b[0m\u001b[0;34m\u001b[0m\u001b[0;34m\u001b[0m\u001b[0m\n\u001b[0m\u001b[1;32m    565\u001b[0m \u001b[0;34m\u001b[0m\u001b[0m\n\u001b[1;32m    566\u001b[0m \u001b[0;34m\u001b[0m\u001b[0m\n",
      "\u001b[0;32m~/anaconda3/lib/python3.7/site-packages/torch/nn/modules/rnn.py\u001b[0m in \u001b[0;36mforward_tensor\u001b[0;34m(self, input, hx)\u001b[0m\n\u001b[1;32m    541\u001b[0m         \u001b[0munsorted_indices\u001b[0m \u001b[0;34m=\u001b[0m \u001b[0;32mNone\u001b[0m\u001b[0;34m\u001b[0m\u001b[0;34m\u001b[0m\u001b[0m\n\u001b[1;32m    542\u001b[0m \u001b[0;34m\u001b[0m\u001b[0m\n\u001b[0;32m--> 543\u001b[0;31m         \u001b[0moutput\u001b[0m\u001b[0;34m,\u001b[0m \u001b[0mhidden\u001b[0m \u001b[0;34m=\u001b[0m \u001b[0mself\u001b[0m\u001b[0;34m.\u001b[0m\u001b[0mforward_impl\u001b[0m\u001b[0;34m(\u001b[0m\u001b[0minput\u001b[0m\u001b[0;34m,\u001b[0m \u001b[0mhx\u001b[0m\u001b[0;34m,\u001b[0m \u001b[0mbatch_sizes\u001b[0m\u001b[0;34m,\u001b[0m \u001b[0mmax_batch_size\u001b[0m\u001b[0;34m,\u001b[0m \u001b[0msorted_indices\u001b[0m\u001b[0;34m)\u001b[0m\u001b[0;34m\u001b[0m\u001b[0;34m\u001b[0m\u001b[0m\n\u001b[0m\u001b[1;32m    544\u001b[0m \u001b[0;34m\u001b[0m\u001b[0m\n\u001b[1;32m    545\u001b[0m         \u001b[0;32mreturn\u001b[0m \u001b[0moutput\u001b[0m\u001b[0;34m,\u001b[0m \u001b[0mself\u001b[0m\u001b[0;34m.\u001b[0m\u001b[0mpermute_hidden\u001b[0m\u001b[0;34m(\u001b[0m\u001b[0mhidden\u001b[0m\u001b[0;34m,\u001b[0m \u001b[0munsorted_indices\u001b[0m\u001b[0;34m)\u001b[0m\u001b[0;34m\u001b[0m\u001b[0;34m\u001b[0m\u001b[0m\n",
      "\u001b[0;32m~/anaconda3/lib/python3.7/site-packages/torch/nn/modules/rnn.py\u001b[0m in \u001b[0;36mforward_impl\u001b[0;34m(self, input, hx, batch_sizes, max_batch_size, sorted_indices)\u001b[0m\n\u001b[1;32m    524\u001b[0m         \u001b[0;32mif\u001b[0m \u001b[0mbatch_sizes\u001b[0m \u001b[0;32mis\u001b[0m \u001b[0;32mNone\u001b[0m\u001b[0;34m:\u001b[0m\u001b[0;34m\u001b[0m\u001b[0;34m\u001b[0m\u001b[0m\n\u001b[1;32m    525\u001b[0m             result = _VF.lstm(input, hx, self._get_flat_weights(), self.bias, self.num_layers,\n\u001b[0;32m--> 526\u001b[0;31m                               self.dropout, self.training, self.bidirectional, self.batch_first)\n\u001b[0m\u001b[1;32m    527\u001b[0m         \u001b[0;32melse\u001b[0m\u001b[0;34m:\u001b[0m\u001b[0;34m\u001b[0m\u001b[0;34m\u001b[0m\u001b[0m\n\u001b[1;32m    528\u001b[0m             result = _VF.lstm(input, batch_sizes, hx, self._get_flat_weights(), self.bias,\n",
      "\u001b[0;31mKeyboardInterrupt\u001b[0m: "
     ]
    }
   ],
   "source": [
    "for epoch in range(num_epochs):\n",
    "    \n",
    "    for phase in [\"train\", \"val\"]:\n",
    "        \n",
    "        if phase == \"train\":\n",
    "            \n",
    "            model.train()\n",
    "            \n",
    "            for i in range(0, len(train)-1, bt_size):\n",
    "                \n",
    "                optimizer.zero_grad()\n",
    "                \n",
    "                inputs, targets = train[i:i+bt_size, :, :], train_label[i:i+bt_size, :]\n",
    "                \n",
    "                if inputs.shape[0] < bt_size: break\n",
    "                \n",
    "                inputs = torch.from_numpy(inputs).float()\n",
    "                targets = torch.from_numpy(targets).float()\n",
    "                \n",
    "                outputs = model(inputs)\n",
    "\n",
    "                loss = total_loss(inputs, targets, outputs)\n",
    "                loss_accumulated.append(loss.item()*1000)\n",
    "\n",
    "                loss.backward(retain_graph=True)\n",
    "                \n",
    "                torch.nn.utils.clip_grad_norm_(model.parameters(), 0.5)\n",
    "                \n",
    "                if (i % 3600 == 0) and (i > bt_size):\n",
    "                    acc = sum(loss_accumulated)*(100) / (len(loss_accumulated))\n",
    "                    print(\"....Processing {}th sample out of {} training set. Loss: {}\".format(i+1,\n",
    "                                                                                             len(train), acc))\n",
    "                    writer.add_scalar(\"Train_Loss\", acc,\n",
    "                                                      (epoch)*(len(train) // 3600) + (i // 3600))\n",
    "                    \n",
    "                optimizer.step()\n",
    "                scheduler.step()\n",
    "                \n",
    "            acc = sum(loss_accumulated)*(100) / (len(loss_accumulated))\n",
    "\n",
    "            \n",
    "            print(\"Epoch: {} Loss: {:.3f}\".format(epoch, acc))\n",
    "            \n",
    "            loss_accumulated = []\n",
    "            \n",
    "            perm = np.random.permutation(train.shape[0])\n",
    "            train, train_label = train[perm], train_label[perm]\n",
    "            \n",
    "        elif phase == \"val\":\n",
    "            \n",
    "            print(\"...Evaluation Mode\")\n",
    "            \n",
    "            model.eval()\n",
    "            \n",
    "            with torch.no_grad():\n",
    "                \n",
    "                for i in range(0, len(val)-1, bt_size):\n",
    "\n",
    "                    inputs, targets = val[i:i+bt_size,:,:], val_label[i:i+bt_size, :]\n",
    "                    \n",
    "                    if inputs.shape[0] < bt_size: break\n",
    "                    \n",
    "                    inputs = torch.from_numpy(inputs).float()\n",
    "                    targets = torch.from_numpy(targets).float()\n",
    "                    \n",
    "                    outputs = model(inputs)\n",
    "                    \n",
    "                    loss = total_loss(inputs, targets, outputs)\n",
    "                    loss_accumulated.append(loss.item()*1000)\n",
    "                \n",
    "                acc = sum(loss_accumulated)*(100) / (len(loss_accumulated))\n",
    "\n",
    "                writer.add_scalar(\"Val_Loss\", acc, epoch)\n",
    "                \n",
    "                print(\"Validation: {:.3f}\".format(acc))\n",
    "                \n",
    "                if acc < best_acc:\n",
    "                    best_model = model\n",
    "                    best_acc = acc\n",
    "                    print(\"MODEL UPDATED !!\")\n",
    "                \n",
    "                loss_accumulated = []\n",
    "                \n",
    "                perm = np.random.permutation(val.shape[0])\n",
    "                val, val_label = val[perm], val_label[perm]\n",
    "                \n",
    "    print(\"-\" * 70)\n",
    "    print()"
   ]
  },
  {
   "cell_type": "code",
   "execution_count": 145,
   "metadata": {},
   "outputs": [
    {
     "name": "stdout",
     "output_type": "stream",
     "text": [
      "----------------------------------------------------------------------\n",
      "idx:  20\n",
      "                                   \t['Close', 'Open', 'High', 'Low', 'Year', 'Month', 'Hour', 'Day_of_Week']\n",
      "\n",
      "Predicted(y_pred)  :\t[0.7847887  0.7903632  0.78251207 0.81544304]\n",
      "Target(y^)               :\t[0.81679389 0.89230769 0.90270796 0.8778626 ]\n",
      "\n",
      "Last Price(y-1)        :\t[0.89312977 0.84615385 0.87838495 0.8778626 ]\n",
      "\n",
      "(y^ - (y_pred))      => 0.3165650963783264\n",
      "(y^ - (y-1))             => 0.14681267738342285\n",
      "----------------------------------------------------------------------\n",
      "----------------------------------------------------------------------\n",
      "idx:  21\n",
      "                                   \t['Close', 'Open', 'High', 'Low', 'Year', 'Month', 'Hour', 'Day_of_Week']\n",
      "\n",
      "Predicted(y_pred)  :\t[0.8027873  0.8069143  0.80043125 0.8371036 ]\n",
      "Target(y^)               :\t[0.95419847 0.83076923 0.90270796 0.90839695]\n",
      "\n",
      "Last Price(y-1)        :\t[0.81679389 0.89230769 0.90270796 0.8778626 ]\n",
      "\n",
      "(y^ - (y_pred))      => 0.34883612394332886\n",
      "(y^ - (y-1))             => 0.2294774055480957\n",
      "----------------------------------------------------------------------\n",
      "----------------------------------------------------------------------\n",
      "idx:  22\n",
      "                                   \t['Close', 'Open', 'High', 'Low', 'Year', 'Month', 'Hour', 'Day_of_Week']\n",
      "\n",
      "Predicted(y_pred)  :\t[0.83077896 0.83436024 0.8308244  0.86101717]\n",
      "Target(y^)               :\t[0.89312977 0.95384615 0.9189233  0.96946565]\n",
      "\n",
      "Last Price(y-1)        :\t[0.95419847 0.83076923 0.90270796 0.90839695]\n",
      "\n",
      "(y^ - (y_pred))      => 0.37838417291641235\n",
      "(y^ - (y-1))             => 0.26142972707748413\n",
      "----------------------------------------------------------------------\n",
      "----------------------------------------------------------------------\n",
      "idx:  23\n",
      "                                   \t['Close', 'Open', 'High', 'Low', 'Year', 'Month', 'Hour', 'Day_of_Week']\n",
      "\n",
      "Predicted(y_pred)  :\t[0.87082064 0.88017607 0.86391693 0.9023252 ]\n",
      "Target(y^)               :\t[0.48091603 0.87692308 0.82163126 0.40473282]\n",
      "\n",
      "Last Price(y-1)        :\t[0.89312977 0.95384615 0.9189233  0.96946565]\n",
      "\n",
      "(y^ - (y_pred))      => 0.933035671710968\n",
      "(y^ - (y-1))             => 1.1511616706848145\n",
      "----------------------------------------------------------------------\n",
      "----------------------------------------------------------------------\n",
      "idx:  24\n",
      "                                   \t['Close', 'Open', 'High', 'Low', 'Year', 'Month', 'Hour', 'Day_of_Week']\n",
      "\n",
      "Predicted(y_pred)  :\t[0.80481994 0.8073435  0.8027237  0.831325  ]\n",
      "Target(y^)               :\t[0.48091603 0.52307692 0.44867845 0.32824427]\n",
      "\n",
      "Last Price(y-1)        :\t[0.48091603 0.87692308 0.82163126 0.40473282]\n",
      "\n",
      "(y^ - (y_pred))      => 1.4652963876724243\n",
      "(y^ - (y-1))             => 0.8032874464988708\n",
      "----------------------------------------------------------------------\n",
      "----------------------------------------------------------------------\n",
      "idx:  25\n",
      "                                   \t['Close', 'Open', 'High', 'Low', 'Year', 'Month', 'Hour', 'Day_of_Week']\n",
      "\n",
      "Predicted(y_pred)  :\t[0.6330285  0.6248036  0.62495214 0.65602356]\n",
      "Target(y^)               :\t[0.57251908 0.46153846 0.59461651 0.52671756]\n",
      "\n",
      "Last Price(y-1)        :\t[0.48091603 0.52307692 0.44867845 0.32824427]\n",
      "\n",
      "(y^ - (y_pred))      => 0.38341620564460754\n",
      "(y^ - (y-1))             => 0.49755287170410156\n",
      "----------------------------------------------------------------------\n",
      "----------------------------------------------------------------------\n",
      "idx:  26\n",
      "                                   \t['Close', 'Open', 'High', 'Low', 'Year', 'Month', 'Hour', 'Day_of_Week']\n",
      "\n",
      "Predicted(y_pred)  :\t[0.522443   0.5188946  0.5094913  0.55639035]\n",
      "Target(y^)               :\t[0.54961832 0.56923077 0.49732447 0.42      ]\n",
      "\n",
      "Last Price(y-1)        :\t[0.57251908 0.46153846 0.59461651 0.52671756]\n",
      "\n",
      "(y^ - (y_pred))      => 0.22606870532035828\n",
      "(y^ - (y-1))             => 0.3346027135848999\n",
      "----------------------------------------------------------------------\n",
      "----------------------------------------------------------------------\n",
      "idx:  27\n",
      "                                   \t['Close', 'Open', 'High', 'Low', 'Year', 'Month', 'Hour', 'Day_of_Week']\n",
      "\n",
      "Predicted(y_pred)  :\t[0.46159935 0.46358624 0.4469303  0.5023778 ]\n",
      "Target(y^)               :\t[0.61832061 0.55384615 0.60921031 0.60305344]\n",
      "\n",
      "Last Price(y-1)        :\t[0.54961832 0.56923077 0.49732447 0.42      ]\n",
      "\n",
      "(y^ - (y_pred))      => 0.5099368095397949\n",
      "(y^ - (y-1))             => 0.3790262043476105\n",
      "----------------------------------------------------------------------\n",
      "----------------------------------------------------------------------\n",
      "idx:  28\n",
      "                                   \t['Close', 'Open', 'High', 'Low', 'Year', 'Month', 'Hour', 'Day_of_Week']\n",
      "\n",
      "Predicted(y_pred)  :\t[0.49731258 0.5030949  0.47876513 0.5457498 ]\n",
      "Target(y^)               :\t[0.82916031 0.61538462 0.78920058 0.69465649]\n",
      "\n",
      "Last Price(y-1)        :\t[0.61832061 0.55384615 0.60921031 0.60305344]\n",
      "\n",
      "(y^ - (y_pred))      => 0.9034796953201294\n",
      "(y^ - (y-1))             => 0.5439715385437012\n",
      "----------------------------------------------------------------------\n",
      "----------------------------------------------------------------------\n",
      "idx:  29\n",
      "                                   \t['Close', 'Open', 'High', 'Low', 'Year', 'Month', 'Hour', 'Day_of_Week']\n",
      "\n",
      "Predicted(y_pred)  :\t[0.55158174 0.55283964 0.53110236 0.6006971 ]\n",
      "Target(y^)               :\t[0.83206107 0.83723077 0.78920058 0.72519084]\n",
      "\n",
      "Last Price(y-1)        :\t[0.82916031 0.61538462 0.78920058 0.69465649]\n",
      "\n",
      "(y^ - (y_pred))      => 0.9474623799324036\n",
      "(y^ - (y-1))             => 0.25528115034103394\n",
      "----------------------------------------------------------------------\n"
     ]
    }
   ],
   "source": [
    "result_compare(temp_model, test, test_label, [i for i in range(20, 30)], feature, categorical_index)"
   ]
  },
  {
   "cell_type": "code",
   "execution_count": 51,
   "metadata": {},
   "outputs": [],
   "source": [
    "# torch.save(best_model, \"stock_model_v5\")"
   ]
  },
  {
   "cell_type": "code",
   "execution_count": 333,
   "metadata": {},
   "outputs": [
    {
     "data": {
      "text/plain": [
       "558.2576291834196"
      ]
     },
     "execution_count": 333,
     "metadata": {},
     "output_type": "execute_result"
    }
   ],
   "source": [
    "mse_copy_last_baseline(train, train_label, bt_size)"
   ]
  },
  {
   "cell_type": "markdown",
   "metadata": {},
   "source": [
    "### Validation\n",
    "\n",
    "分散された位置からとってきた方がいい（今のままだと連続したところからとってきている）\n",
    "\n",
    "### Embedding\n",
    "\n",
    "embeddingそのものをどれくらい考慮するかもnetworkでやるべきか\n",
    "\n",
    "### やること\n",
    "\n",
    "・　dataをとってくる (screen embedding)\n",
    "・　loss functionをもうちょいいじる -> チャートだけで大きな変化を予想するのは難しいが、小さな変化をミスってはダメとか\n",
    "・ positional embedding\n",
    "・ baysean optimizationでparmeter search\n",
    "・ transformer"
   ]
  },
  {
   "cell_type": "code",
   "execution_count": 1,
   "metadata": {},
   "outputs": [],
   "source": [
    "###########################################\n",
    "###STEP 1 まずEmbeddingなしでClose Priceだけで予測する##\n",
    "###########################################"
   ]
  },
  {
   "cell_type": "code",
   "execution_count": 2,
   "metadata": {},
   "outputs": [],
   "source": [
    "##########################################\n",
    "############STEP 2 Price4つを加える#############\n",
    "##########################################"
   ]
  },
  {
   "cell_type": "code",
   "execution_count": 3,
   "metadata": {},
   "outputs": [],
   "source": [
    "##########################################\n",
    "###########STEP 3 Parametersをいじくる###########\n",
    "##########################################"
   ]
  },
  {
   "cell_type": "code",
   "execution_count": null,
   "metadata": {},
   "outputs": [],
   "source": [
    "##########################################\n",
    "########STEP 4 Time Embeddingsを加える##########\n",
    "##########################################"
   ]
  },
  {
   "cell_type": "code",
   "execution_count": null,
   "metadata": {},
   "outputs": [],
   "source": [
    "##########################################\n",
    "######STEP 5 Positional Embeddingsを加える#########\n",
    "##########################################"
   ]
  },
  {
   "cell_type": "code",
   "execution_count": null,
   "metadata": {},
   "outputs": [],
   "source": [
    "##########################################\n",
    "###########STEP 6 Loss Functionを変える##########\n",
    "##########################################"
   ]
  },
  {
   "cell_type": "code",
   "execution_count": 4,
   "metadata": {},
   "outputs": [],
   "source": [
    "##########################################\n",
    "########STEP 5 Transformerを使って予測する#########\n",
    "##########################################"
   ]
  },
  {
   "cell_type": "code",
   "execution_count": 7,
   "metadata": {},
   "outputs": [],
   "source": [
    "##########################################\n",
    "########STEP 7 Company Embeddingを加える########\n",
    "##########################################"
   ]
  },
  {
   "cell_type": "code",
   "execution_count": 8,
   "metadata": {},
   "outputs": [],
   "source": [
    "##########################################\n",
    "########STEP 8 Day, Hour, MinuteをMixする##########\n",
    "##########################################"
   ]
  },
  {
   "cell_type": "code",
   "execution_count": null,
   "metadata": {},
   "outputs": [],
   "source": [
    "\n",
    "\n"
   ]
  },
  {
   "cell_type": "code",
   "execution_count": null,
   "metadata": {},
   "outputs": [],
   "source": []
  }
 ],
 "metadata": {
  "kernelspec": {
   "display_name": "Python 3",
   "language": "python",
   "name": "python3"
  },
  "language_info": {
   "codemirror_mode": {
    "name": "ipython",
    "version": 3
   },
   "file_extension": ".py",
   "mimetype": "text/x-python",
   "name": "python",
   "nbconvert_exporter": "python",
   "pygments_lexer": "ipython3",
   "version": "3.7.3"
  }
 },
 "nbformat": 4,
 "nbformat_minor": 2
}
